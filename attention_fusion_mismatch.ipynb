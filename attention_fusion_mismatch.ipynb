{
 "cells": [
  {
   "cell_type": "code",
   "execution_count": 1,
   "metadata": {},
   "outputs": [],
   "source": [
    "import torch\n",
    "import torch.nn as nn\n",
    "import seaborn as sns"
   ]
  },
  {
   "cell_type": "code",
   "execution_count": 3,
   "metadata": {},
   "outputs": [],
   "source": [
    "def get_close_at(tensor1, tensor2):\n",
    "    for i in range(100):\n",
    "        if not torch.allclose(tensor1, tensor2, atol=eval(f\"1e-{i}\")):\n",
    "            print(f\"Similar to the decimal place : {i}\")\n",
    "            return\n",
    "    \n",
    "    print(\"Similar to the 100th decimal place\")"
   ]
  },
  {
   "cell_type": "code",
   "execution_count": null,
   "metadata": {},
   "outputs": [],
   "source": [
    "### settings ###\n",
    "\n",
    "device = torch.device(\"cuda:0\")\n",
    "# device = torch.device(\"cpu\")\n",
    "\n",
    "dtype = torch.bfloat16\n",
    "# dtype = torch.float16\n",
    "# dtype = torch.float32\n",
    "\n",
    "random_weights = False\n",
    "\n",
    "fused_dims = (4096, 1024, 1024)\n"
   ]
  },
  {
   "cell_type": "code",
   "execution_count": 18,
   "metadata": {},
   "outputs": [],
   "source": [
    "hidden_states = torch.load(\"./weights/normed_inputs.pt\", map_location= device).to(dtype)\n",
    "q_proj_weight = torch.load(\"./weights/q_proj_weight.pt\", map_location= device).to(dtype)\n",
    "k_proj_weight = torch.load(\"./weights/k_proj_weight.pt\", map_location= device).to(dtype)\n",
    "v_proj_weight = torch.load(\"./v_proj_weight.pt\", map_location= device).to(dtype)\n",
    "\n",
    "if random_weights:\n",
    "    stats_hidden_states = (hidden_states.float().mean().item(), hidden_states.float().std().item())\n",
    "    stats_q_proj_weight = (q_proj_weight.float().mean().item(), q_proj_weight.float().std().item())\n",
    "    stats_k_proj_weight = (k_proj_weight.float().mean().item(), k_proj_weight.float().std().item())\n",
    "    stats_v_proj_weight = (v_proj_weight.float().mean().item(), v_proj_weight.float().std().item())\n",
    "\n",
    "\n",
    "    hidden_states = torch.normal(*stats_hidden_states, size=(1, 4, 4096))\n",
    "    q_proj_weight = torch.normal(*stats_q_proj_weight, size=(4096, 4096))\n",
    "    k_proj_weight = torch.normal(*stats_k_proj_weight, size=(1024, 4096))\n",
    "    v_proj_weight = torch.normal(*stats_v_proj_weight, size=(1024, 4096))\n",
    "    \n",
    "\n",
    "print(f\"Hidden States Shape = {hidden_states.shape}\")\n",
    "print(f\"Query Projection Shape = {q_proj_weight.shape}\")\n",
    "print(f\"Key Projection Shape = {k_proj_weight.shape}\")\n",
    "print(f\"Value Projection Shape = {v_proj_weight.shape}\")"
   ]
  },
  {
   "cell_type": "code",
   "execution_count": 20,
   "metadata": {},
   "outputs": [],
   "source": [
    "fused_attention_proj = nn.Linear(in_features=4096, out_features=sum(fused_dims), bias = False, device = device)\n",
    "fused_attention_proj.weight = nn.Parameter(torch.concatenate([q_proj_weight, k_proj_weight, v_proj_weight]))\n",
    "qkv = fused_attention_proj(hidden_states)\n",
    "q_fused, k_fused, v_fused = qkv.split(fused_dims, dim = -1)"
   ]
  },
  {
   "cell_type": "code",
   "execution_count": 22,
   "metadata": {},
   "outputs": [],
   "source": [
    "q_proj = nn.Linear(in_features=4096, out_features=4096, bias = False, device = device)\n",
    "k_proj = nn.Linear(in_features=4096, out_features=1024, bias = False, device = device)\n",
    "v_proj = nn.Linear(in_features=4096, out_features=1024, bias = False, device = device)\n",
    "\n",
    "q_proj.weight = nn.Parameter(q_proj_weight)\n",
    "k_proj.weight = nn.Parameter(k_proj_weight)\n",
    "v_proj.weight = nn.Parameter(v_proj_weight)\n",
    "\n",
    "q_single = q_proj(hidden_states)\n",
    "k_single = k_proj(hidden_states)\n",
    "v_single = v_proj(hidden_states)"
   ]
  },
  {
   "cell_type": "code",
   "execution_count": 24,
   "metadata": {},
   "outputs": [
    {
     "name": "stdout",
     "output_type": "stream",
     "text": [
      "Similar to the 100th digit\n"
     ]
    }
   ],
   "source": [
    "get_close_at(q_single, q_fused)"
   ]
  },
  {
   "cell_type": "code",
   "execution_count": 25,
   "metadata": {},
   "outputs": [
    {
     "name": "stdout",
     "output_type": "stream",
     "text": [
      "Similar to the 100th digit\n"
     ]
    }
   ],
   "source": [
    "get_close_at(k_single, k_fused)"
   ]
  },
  {
   "cell_type": "code",
   "execution_count": 26,
   "metadata": {},
   "outputs": [
    {
     "name": "stdout",
     "output_type": "stream",
     "text": [
      "Similar to the 100th digit\n"
     ]
    }
   ],
   "source": [
    "get_close_at(v_single, v_fused)"
   ]
  }
 ],
 "metadata": {
  "kernelspec": {
   "display_name": "Python 3",
   "language": "python",
   "name": "python3"
  },
  "language_info": {
   "codemirror_mode": {
    "name": "ipython",
    "version": 3
   },
   "file_extension": ".py",
   "mimetype": "text/x-python",
   "name": "python",
   "nbconvert_exporter": "python",
   "pygments_lexer": "ipython3",
   "version": "3.11.7"
  }
 },
 "nbformat": 4,
 "nbformat_minor": 2
}
